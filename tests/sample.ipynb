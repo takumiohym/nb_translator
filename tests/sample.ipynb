{
 "cells": [
  {
   "cell_type": "markdown",
   "id": "e9b088bf",
   "metadata": {},
   "source": [
    "# Sample Notebook"
   ]
  },
  {
   "cell_type": "markdown",
   "id": "2c1fd567",
   "metadata": {},
   "source": [
    "Description\n",
    "\n"
   ]
  },
  {
   "cell_type": "code",
   "execution_count": null,
   "id": "d8ea8c7c",
   "metadata": {},
   "outputs": [],
   "source": [
    "def foo(a):\n",
    "    return a"
   ]
  },
  {
   "cell_type": "markdown",
   "id": "3c7942d1",
   "metadata": {},
   "source": [
    "## List\n",
    "\n",
    "- Item 1\n",
    "- Item 2\n",
    "  - Nested Item 1\n",
    "  - Nested Item 2\n",
    "  "
   ]
  },
  {
   "cell_type": "markdown",
   "id": "e2851d66",
   "metadata": {},
   "source": [
    "## Link\n",
    "\n",
    "This is a [good reference](https://github.com/takumiohym/nb_translator) for you."
   ]
  },
  {
   "cell_type": "markdown",
   "id": "2971d0f2",
   "metadata": {},
   "source": [
    "## Quotation\n",
    "\n",
    "> The greatest glory in living lies not in never falling, but in rising every time we fall. -Nelson Mandela"
   ]
  },
  {
   "cell_type": "markdown",
   "id": "8aa4fd54",
   "metadata": {},
   "source": [
    "## Text Format\n",
    "\n",
    "*some text in italic* and normal text\n",
    "\n",
    "**some bold text** and normal text\n"
   ]
  },
  {
   "cell_type": "markdown",
   "id": "65a28c23",
   "metadata": {},
   "source": [
    "This `code highlights` parts should not be translated"
   ]
  },
  {
   "cell_type": "markdown",
   "id": "31e7c95e",
   "metadata": {},
   "source": [
    "## Separater\n",
    "\n",
    "---\n",
    "\n",
    "***"
   ]
  },
  {
   "cell_type": "markdown",
   "id": "1c2b78de",
   "metadata": {},
   "source": [
    "## Table\n",
    "\n",
    "|Class|Good|Neutral|Bad|\n",
    "|-|-|-|-|\n",
    "|A|10|0|0|\n",
    "|B|0|10|0|\n",
    "|C|0|0|10|\n"
   ]
  }
 ],
 "metadata": {
  "environment": {
   "name": "tf2-gpu.2-3.m74",
   "type": "gcloud",
   "uri": "gcr.io/deeplearning-platform-release/tf2-gpu.2-3:m74"
  },
  "kernelspec": {
   "display_name": "Python 3",
   "language": "python",
   "name": "python3"
  },
  "language_info": {
   "codemirror_mode": {
    "name": "ipython",
    "version": 3
   },
   "file_extension": ".py",
   "mimetype": "text/x-python",
   "name": "python",
   "nbconvert_exporter": "python",
   "pygments_lexer": "ipython3",
   "version": "3.7.10"
  }
 },
 "nbformat": 4,
 "nbformat_minor": 5
}
